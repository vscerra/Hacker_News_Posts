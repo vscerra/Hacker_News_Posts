{
 "cells": [
  {
   "cell_type": "markdown",
   "metadata": {},
   "source": [
    "# Exploration of Hacker News Posts"
   ]
  },
  {
   "cell_type": "markdown",
   "metadata": {},
   "source": [
    "## Purpose"
   ]
  },
  {
   "cell_type": "markdown",
   "metadata": {
    "collapsed": true
   },
   "source": [
    "This short project is an analysis of a sampling of posts from the Hacker News website. The goal is to assess whether `Show HN` or `Ask HN` posts get more comments and points, and to investigate whether the timing of a post has any effect on the number of comments made. \n",
    "\n",
    "The purpose of conducting this exercise in analysis is demonstrate the use date and time information in a data analysis project. "
   ]
  },
  {
   "cell_type": "markdown",
   "metadata": {},
   "source": [
    "## Data"
   ]
  },
  {
   "cell_type": "markdown",
   "metadata": {},
   "source": [
    "### Importing the data"
   ]
  },
  {
   "cell_type": "markdown",
   "metadata": {},
   "source": [
    "The data I will use in the analysis is from the Hacker News site, run by [Y Combinator](https://www.ycombinator.com/) and the full dataset can be accessed [here](https://www.kaggle.com/datasets/hacker-news/hacker-news-posts). For the purposes of this analysis of commentary on posts, the dataset has been reduced from 300,000 rows to 20,100 rows by excluding posts without comments and randomly sampling the remainder. "
   ]
  },
  {
   "cell_type": "code",
   "execution_count": 1,
   "metadata": {},
   "outputs": [
    {
     "name": "stdout",
     "output_type": "stream",
     "text": [
      "['id', 'title', 'url', 'num_points', 'num_comments', 'author', 'created_at']\n",
      "[['12224879', 'Interactive Dynamic Video', 'http://www.interactivedynamicvideo.com/', '386', '52', 'ne0phyte', '8/4/2016 11:52'], ['10975351', 'How to Use Open Source and Shut the Fuck Up at the Same Time', 'http://hueniverse.com/2016/01/26/how-to-use-open-source-and-shut-the-fuck-up-at-the-same-time/', '39', '10', 'josep2', '1/26/2016 19:30'], ['11964716', \"Florida DJs May Face Felony for April Fools' Water Joke\", 'http://www.thewire.com/entertainment/2013/04/florida-djs-april-fools-water-joke/63798/', '2', '1', 'vezycash', '6/23/2016 22:20']]\n"
     ]
    }
   ],
   "source": [
    "from csv import reader\n",
    "opened_file = open('hacker_news.csv')\n",
    "read_file = reader(opened_file)\n",
    "hn = list(read_file)\n",
    "headers = hn[0]\n",
    "hn = hn[1:]\n",
    "print(headers)\n",
    "print(hn[0:3])"
   ]
  },
  {
   "cell_type": "markdown",
   "metadata": {},
   "source": [
    "### Organizing and cleaning the data"
   ]
  },
  {
   "cell_type": "markdown",
   "metadata": {},
   "source": [
    "The next step in filtering the data is separating out the posts of interest for this analysis - the `Ask HN` and `Show HN` posts. "
   ]
  },
  {
   "cell_type": "code",
   "execution_count": 2,
   "metadata": {},
   "outputs": [
    {
     "name": "stdout",
     "output_type": "stream",
     "text": [
      "Number of ask posts: 1744\n",
      "Number of show posts: 1162\n",
      "Number of other posts: 17194\n"
     ]
    }
   ],
   "source": [
    "ask_posts = []\n",
    "show_posts = []\n",
    "other_posts = []\n",
    "\n",
    "for row in hn:\n",
    "    title = row[1]\n",
    "    title = title.lower()\n",
    "    if title.startswith('ask hn'):\n",
    "        ask_posts.append(row)\n",
    "    elif title.startswith('show hn'):\n",
    "        show_posts.append(row)\n",
    "    else:\n",
    "        other_posts.append(row)\n",
    "        \n",
    "print('Number of ask posts:', len(ask_posts))\n",
    "print('Number of show posts:', len(show_posts))\n",
    "print('Number of other posts:', len(other_posts))"
   ]
  },
  {
   "cell_type": "markdown",
   "metadata": {},
   "source": [
    "## Analysis"
   ]
  },
  {
   "cell_type": "markdown",
   "metadata": {},
   "source": [
    "### Analysis of average number of comments per post by post _type_"
   ]
  },
  {
   "cell_type": "markdown",
   "metadata": {},
   "source": [
    "Now I will sift through the posts and track the number of comments for each kind of post of interest."
   ]
  },
  {
   "cell_type": "code",
   "execution_count": 3,
   "metadata": {},
   "outputs": [
    {
     "name": "stdout",
     "output_type": "stream",
     "text": [
      "Average number or ask comments: 14.04\n",
      "Average number of show comments: 10.32\n"
     ]
    }
   ],
   "source": [
    "total_ask_comments = 0\n",
    "total_show_comments = 0\n",
    "\n",
    "for row in ask_posts:\n",
    "    total_ask_comments +=int(row[4])\n",
    "    \n",
    "for row in show_posts:\n",
    "    total_show_comments += int(row[4])\n",
    "    \n",
    "avg_ask_comments = total_ask_comments/len(ask_posts)\n",
    "avg_show_comments = total_show_comments/len(show_posts)\n",
    "\n",
    "print('Average number or ask comments:', '{:.2f}'.format(avg_ask_comments))\n",
    "print('Average number of show comments:', '{:.2f}'.format(avg_show_comments))"
   ]
  },
  {
   "cell_type": "markdown",
   "metadata": {},
   "source": [
    "On average `Ask HN` posts recieve almost 4 more comments per post than `Show HN` posts. This is not surprising, as the format of an `Ask HN` post literally invites response - that is its purpose. "
   ]
  },
  {
   "cell_type": "markdown",
   "metadata": {},
   "source": [
    "### Analysis of average number of comments per post by post _time_"
   ]
  },
  {
   "cell_type": "markdown",
   "metadata": {},
   "source": [
    "As `Ask` posts are the more commented-on, on average, I will explore them further by finding if there is any relationship between the number of comments and the timing of the post. "
   ]
  },
  {
   "cell_type": "code",
   "execution_count": 4,
   "metadata": {},
   "outputs": [
    {
     "name": "stdout",
     "output_type": "stream",
     "text": [
      "Top 5 Hours for Ask Post Comments\n",
      "12:00 : 38.59 average comments per post\n",
      "23:00 : 23.81 average comments per post\n",
      "17:00 : 21.52 average comments per post\n",
      "13:00 : 16.80 average comments per post\n",
      "18:00 : 16.01 average comments per post\n"
     ]
    }
   ],
   "source": [
    "import datetime as dt\n",
    "\n",
    "result_list = []\n",
    "\n",
    "for row in ask_posts:\n",
    "    created_at = row[6]\n",
    "    num_comments = int(row[4])\n",
    "    result_list.append([created_at, num_comments])\n",
    "\n",
    "counts_by_hour = {}\n",
    "comments_by_hour = {}\n",
    "\n",
    "for row in result_list:\n",
    "    post_time = dt.datetime.strptime(row[0],'%m/%d/%Y %H:%M')\n",
    "    hour = post_time.strftime('%H')\n",
    "    if hour not in counts_by_hour:\n",
    "        counts_by_hour[hour] = 1\n",
    "        comments_by_hour[hour] = row[1]\n",
    "    else:\n",
    "        counts_by_hour[hour]+=1\n",
    "        comments_by_hour[hour] += row[1]\n",
    "\n",
    "avg_by_hour = []\n",
    "for hour in counts_by_hour:\n",
    "    avg_by_hour.append([comments_by_hour[hour]/counts_by_hour[hour], hour])\n",
    "\n",
    "sorted_avg = sorted(avg_by_hour, reverse = True)\n",
    "print('Top 5 Hours for Ask Post Comments')\n",
    "for row in sorted_avg[0:5]:\n",
    "    #format the time and convert it to the local time (EST to PST) using the dt.timedelta function\n",
    "    time = dt.datetime.strptime(row[1],'%H')-dt.timedelta(hours = 3)\n",
    "    print(time.strftime('%H:%M'), ':', '{:.2f}'.format(row[0]), 'average comments per post')"
   ]
  },
  {
   "cell_type": "markdown",
   "metadata": {},
   "source": [
    "The above result indicates that the best time to create an `Ask HN` post, if you want the maximum number of comments is 12 pm PST. The top five times are 12 pm, 11 pm, 5 pm, 1 pm, and 6 pm, PST. A poster can get more than twice the number of comments on a post at noon than a post an hour later at 1 pm. Additionally, if you want to maximize the number of comments on your post, you're better off posting in the afternoon rather than in the morning. "
   ]
  },
  {
   "cell_type": "markdown",
   "metadata": {},
   "source": [
    "### Analyzing the average number of points per post type"
   ]
  },
  {
   "cell_type": "markdown",
   "metadata": {},
   "source": [
    "The first evaluation metric we looked at was comments - how much engagement did a post generate by type and time. A second way to gauge the success of a post is by the number of points in gets. Points are equal to the number of upvotes a particular post gets, or how much other users of the website enjoy the post. "
   ]
  },
  {
   "cell_type": "code",
   "execution_count": 6,
   "metadata": {},
   "outputs": [
    {
     "name": "stdout",
     "output_type": "stream",
     "text": [
      "Average number or ask points: 14.04\n",
      "Average number of show points: 10.32\n",
      "Average number of other points: 26.87\n"
     ]
    }
   ],
   "source": [
    "total_ask_points = 0\n",
    "total_show_points = 0\n",
    "total_other_points = 0\n",
    "\n",
    "for row in ask_posts:\n",
    "    total_ask_points +=int(row[4])\n",
    "    \n",
    "for row in show_posts:\n",
    "    total_show_points += int(row[4])\n",
    "    \n",
    "for row in other_posts:\n",
    "    total_other_points += int(row[4])\n",
    "    \n",
    "avg_ask_points = total_ask_points/len(ask_posts)\n",
    "avg_show_points = total_show_points/len(show_posts)\n",
    "avg_other_points = total_other_points/len(other_posts)\n",
    "\n",
    "print('Average number or ask points:', '{:.2f}'.format(avg_ask_points))\n",
    "print('Average number of show points:', '{:.2f}'.format(avg_show_points))\n",
    "print('Average number of other points:','{:.2f}'.format(avg_other_points))"
   ]
  },
  {
   "cell_type": "markdown",
   "metadata": {},
   "source": [
    "## Discussion and Recommendations"
   ]
  },
  {
   "cell_type": "markdown",
   "metadata": {},
   "source": [
    "This short survery of posts from the Hacker News site demonstrates trends that make intuitive sense. Posts _asking_ for response (`Ask HN`) posts recieve more comments than posts simply want to display a skill or information (`Show HN` posts). Additionally, while `Ask HN` posts garner more points than `Show HN` posts, other posts - including those sharing useful information and resources and exciting news - get more points than either. \n",
    "\n",
    "One of the purposes of this analysis was to practice and demonstrate the use of datetime information in analyses. To that end, the best time to create an `Ask  HN` post in order to recieve the most responses was determined. The data suggest that posts make in the afternoon (Pacific Time) get more responses than morning posts, and that 12 pm, 11 pm, and 5 pm were the top three times to make a post. "
   ]
  }
 ],
 "metadata": {
  "kernelspec": {
   "display_name": "Python 3",
   "language": "python",
   "name": "python3"
  },
  "language_info": {
   "codemirror_mode": {
    "name": "ipython",
    "version": 3
   },
   "file_extension": ".py",
   "mimetype": "text/x-python",
   "name": "python",
   "nbconvert_exporter": "python",
   "pygments_lexer": "ipython3",
   "version": "3.8.2"
  }
 },
 "nbformat": 4,
 "nbformat_minor": 2
}
